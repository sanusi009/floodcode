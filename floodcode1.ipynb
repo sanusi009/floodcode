{
  "nbformat": 4,
  "nbformat_minor": 0,
  "metadata": {
    "colab": {
      "provenance": [],
      "gpuType": "T4"
    },
    "kernelspec": {
      "name": "python3",
      "display_name": "Python 3"
    },
    "language_info": {
      "name": "python"
    },
    "accelerator": "GPU",
    "widgets": {
      "application/vnd.jupyter.widget-state+json": {
        "722670495c704f038d81582f8117e82b": {
          "model_module": "@jupyter-widgets/controls",
          "model_name": "HBoxModel",
          "model_module_version": "1.5.0",
          "state": {
            "_dom_classes": [],
            "_model_module": "@jupyter-widgets/controls",
            "_model_module_version": "1.5.0",
            "_model_name": "HBoxModel",
            "_view_count": null,
            "_view_module": "@jupyter-widgets/controls",
            "_view_module_version": "1.5.0",
            "_view_name": "HBoxView",
            "box_style": "",
            "children": [
              "IPY_MODEL_d223560fc5704697ac2442e849b0414b",
              "IPY_MODEL_fc001ccc47a5434bbc883b0315b94a74",
              "IPY_MODEL_64ec68b4f28143fd9354645d74ce32b9"
            ],
            "layout": "IPY_MODEL_8d1468477f9b4cc08fba5741bbb37d2a"
          }
        },
        "d223560fc5704697ac2442e849b0414b": {
          "model_module": "@jupyter-widgets/controls",
          "model_name": "HTMLModel",
          "model_module_version": "1.5.0",
          "state": {
            "_dom_classes": [],
            "_model_module": "@jupyter-widgets/controls",
            "_model_module_version": "1.5.0",
            "_model_name": "HTMLModel",
            "_view_count": null,
            "_view_module": "@jupyter-widgets/controls",
            "_view_module_version": "1.5.0",
            "_view_name": "HTMLView",
            "description": "",
            "description_tooltip": null,
            "layout": "IPY_MODEL_a22f4597b05d4c37bc972dfa7e413145",
            "placeholder": "​",
            "style": "IPY_MODEL_f80ef7c394194539b84a13525bd3f88b",
            "value": "100%"
          }
        },
        "fc001ccc47a5434bbc883b0315b94a74": {
          "model_module": "@jupyter-widgets/controls",
          "model_name": "FloatProgressModel",
          "model_module_version": "1.5.0",
          "state": {
            "_dom_classes": [],
            "_model_module": "@jupyter-widgets/controls",
            "_model_module_version": "1.5.0",
            "_model_name": "FloatProgressModel",
            "_view_count": null,
            "_view_module": "@jupyter-widgets/controls",
            "_view_module_version": "1.5.0",
            "_view_name": "ProgressView",
            "bar_style": "success",
            "description": "",
            "description_tooltip": null,
            "layout": "IPY_MODEL_5431979266d5473dacabd92ed85583bf",
            "max": 674,
            "min": 0,
            "orientation": "horizontal",
            "style": "IPY_MODEL_e7e2600673ab4d50ace4e3ff4ddab06e",
            "value": 674
          }
        },
        "64ec68b4f28143fd9354645d74ce32b9": {
          "model_module": "@jupyter-widgets/controls",
          "model_name": "HTMLModel",
          "model_module_version": "1.5.0",
          "state": {
            "_dom_classes": [],
            "_model_module": "@jupyter-widgets/controls",
            "_model_module_version": "1.5.0",
            "_model_name": "HTMLModel",
            "_view_count": null,
            "_view_module": "@jupyter-widgets/controls",
            "_view_module_version": "1.5.0",
            "_view_name": "HTMLView",
            "description": "",
            "description_tooltip": null,
            "layout": "IPY_MODEL_9ffa623d34714701baa86ee853894c0f",
            "placeholder": "​",
            "style": "IPY_MODEL_d5c2b67c15254d56b5a71392a47147ba",
            "value": " 674/674 [00:29&lt;00:00, 24.67it/s]"
          }
        },
        "8d1468477f9b4cc08fba5741bbb37d2a": {
          "model_module": "@jupyter-widgets/base",
          "model_name": "LayoutModel",
          "model_module_version": "1.2.0",
          "state": {
            "_model_module": "@jupyter-widgets/base",
            "_model_module_version": "1.2.0",
            "_model_name": "LayoutModel",
            "_view_count": null,
            "_view_module": "@jupyter-widgets/base",
            "_view_module_version": "1.2.0",
            "_view_name": "LayoutView",
            "align_content": null,
            "align_items": null,
            "align_self": null,
            "border": null,
            "bottom": null,
            "display": null,
            "flex": null,
            "flex_flow": null,
            "grid_area": null,
            "grid_auto_columns": null,
            "grid_auto_flow": null,
            "grid_auto_rows": null,
            "grid_column": null,
            "grid_gap": null,
            "grid_row": null,
            "grid_template_areas": null,
            "grid_template_columns": null,
            "grid_template_rows": null,
            "height": null,
            "justify_content": null,
            "justify_items": null,
            "left": null,
            "margin": null,
            "max_height": null,
            "max_width": null,
            "min_height": null,
            "min_width": null,
            "object_fit": null,
            "object_position": null,
            "order": null,
            "overflow": null,
            "overflow_x": null,
            "overflow_y": null,
            "padding": null,
            "right": null,
            "top": null,
            "visibility": null,
            "width": null
          }
        },
        "a22f4597b05d4c37bc972dfa7e413145": {
          "model_module": "@jupyter-widgets/base",
          "model_name": "LayoutModel",
          "model_module_version": "1.2.0",
          "state": {
            "_model_module": "@jupyter-widgets/base",
            "_model_module_version": "1.2.0",
            "_model_name": "LayoutModel",
            "_view_count": null,
            "_view_module": "@jupyter-widgets/base",
            "_view_module_version": "1.2.0",
            "_view_name": "LayoutView",
            "align_content": null,
            "align_items": null,
            "align_self": null,
            "border": null,
            "bottom": null,
            "display": null,
            "flex": null,
            "flex_flow": null,
            "grid_area": null,
            "grid_auto_columns": null,
            "grid_auto_flow": null,
            "grid_auto_rows": null,
            "grid_column": null,
            "grid_gap": null,
            "grid_row": null,
            "grid_template_areas": null,
            "grid_template_columns": null,
            "grid_template_rows": null,
            "height": null,
            "justify_content": null,
            "justify_items": null,
            "left": null,
            "margin": null,
            "max_height": null,
            "max_width": null,
            "min_height": null,
            "min_width": null,
            "object_fit": null,
            "object_position": null,
            "order": null,
            "overflow": null,
            "overflow_x": null,
            "overflow_y": null,
            "padding": null,
            "right": null,
            "top": null,
            "visibility": null,
            "width": null
          }
        },
        "f80ef7c394194539b84a13525bd3f88b": {
          "model_module": "@jupyter-widgets/controls",
          "model_name": "DescriptionStyleModel",
          "model_module_version": "1.5.0",
          "state": {
            "_model_module": "@jupyter-widgets/controls",
            "_model_module_version": "1.5.0",
            "_model_name": "DescriptionStyleModel",
            "_view_count": null,
            "_view_module": "@jupyter-widgets/base",
            "_view_module_version": "1.2.0",
            "_view_name": "StyleView",
            "description_width": ""
          }
        },
        "5431979266d5473dacabd92ed85583bf": {
          "model_module": "@jupyter-widgets/base",
          "model_name": "LayoutModel",
          "model_module_version": "1.2.0",
          "state": {
            "_model_module": "@jupyter-widgets/base",
            "_model_module_version": "1.2.0",
            "_model_name": "LayoutModel",
            "_view_count": null,
            "_view_module": "@jupyter-widgets/base",
            "_view_module_version": "1.2.0",
            "_view_name": "LayoutView",
            "align_content": null,
            "align_items": null,
            "align_self": null,
            "border": null,
            "bottom": null,
            "display": null,
            "flex": null,
            "flex_flow": null,
            "grid_area": null,
            "grid_auto_columns": null,
            "grid_auto_flow": null,
            "grid_auto_rows": null,
            "grid_column": null,
            "grid_gap": null,
            "grid_row": null,
            "grid_template_areas": null,
            "grid_template_columns": null,
            "grid_template_rows": null,
            "height": null,
            "justify_content": null,
            "justify_items": null,
            "left": null,
            "margin": null,
            "max_height": null,
            "max_width": null,
            "min_height": null,
            "min_width": null,
            "object_fit": null,
            "object_position": null,
            "order": null,
            "overflow": null,
            "overflow_x": null,
            "overflow_y": null,
            "padding": null,
            "right": null,
            "top": null,
            "visibility": null,
            "width": null
          }
        },
        "e7e2600673ab4d50ace4e3ff4ddab06e": {
          "model_module": "@jupyter-widgets/controls",
          "model_name": "ProgressStyleModel",
          "model_module_version": "1.5.0",
          "state": {
            "_model_module": "@jupyter-widgets/controls",
            "_model_module_version": "1.5.0",
            "_model_name": "ProgressStyleModel",
            "_view_count": null,
            "_view_module": "@jupyter-widgets/base",
            "_view_module_version": "1.2.0",
            "_view_name": "StyleView",
            "bar_color": null,
            "description_width": ""
          }
        },
        "9ffa623d34714701baa86ee853894c0f": {
          "model_module": "@jupyter-widgets/base",
          "model_name": "LayoutModel",
          "model_module_version": "1.2.0",
          "state": {
            "_model_module": "@jupyter-widgets/base",
            "_model_module_version": "1.2.0",
            "_model_name": "LayoutModel",
            "_view_count": null,
            "_view_module": "@jupyter-widgets/base",
            "_view_module_version": "1.2.0",
            "_view_name": "LayoutView",
            "align_content": null,
            "align_items": null,
            "align_self": null,
            "border": null,
            "bottom": null,
            "display": null,
            "flex": null,
            "flex_flow": null,
            "grid_area": null,
            "grid_auto_columns": null,
            "grid_auto_flow": null,
            "grid_auto_rows": null,
            "grid_column": null,
            "grid_gap": null,
            "grid_row": null,
            "grid_template_areas": null,
            "grid_template_columns": null,
            "grid_template_rows": null,
            "height": null,
            "justify_content": null,
            "justify_items": null,
            "left": null,
            "margin": null,
            "max_height": null,
            "max_width": null,
            "min_height": null,
            "min_width": null,
            "object_fit": null,
            "object_position": null,
            "order": null,
            "overflow": null,
            "overflow_x": null,
            "overflow_y": null,
            "padding": null,
            "right": null,
            "top": null,
            "visibility": null,
            "width": null
          }
        },
        "d5c2b67c15254d56b5a71392a47147ba": {
          "model_module": "@jupyter-widgets/controls",
          "model_name": "DescriptionStyleModel",
          "model_module_version": "1.5.0",
          "state": {
            "_model_module": "@jupyter-widgets/controls",
            "_model_module_version": "1.5.0",
            "_model_name": "DescriptionStyleModel",
            "_view_count": null,
            "_view_module": "@jupyter-widgets/base",
            "_view_module_version": "1.2.0",
            "_view_name": "StyleView",
            "description_width": ""
          }
        },
        "024c3398b4264d6e9f045d3118d4d869": {
          "model_module": "@jupyter-widgets/controls",
          "model_name": "HBoxModel",
          "model_module_version": "1.5.0",
          "state": {
            "_dom_classes": [],
            "_model_module": "@jupyter-widgets/controls",
            "_model_module_version": "1.5.0",
            "_model_name": "HBoxModel",
            "_view_count": null,
            "_view_module": "@jupyter-widgets/controls",
            "_view_module_version": "1.5.0",
            "_view_name": "HBoxView",
            "box_style": "",
            "children": [
              "IPY_MODEL_defe0caad9024622a28e750c9dac22d1",
              "IPY_MODEL_f94a9db928a442a099df91288c2af352",
              "IPY_MODEL_301c5fb412a04795bab13e453781f040"
            ],
            "layout": "IPY_MODEL_ddfe98aa7bd742f7a25ef872296283b7"
          }
        },
        "defe0caad9024622a28e750c9dac22d1": {
          "model_module": "@jupyter-widgets/controls",
          "model_name": "HTMLModel",
          "model_module_version": "1.5.0",
          "state": {
            "_dom_classes": [],
            "_model_module": "@jupyter-widgets/controls",
            "_model_module_version": "1.5.0",
            "_model_name": "HTMLModel",
            "_view_count": null,
            "_view_module": "@jupyter-widgets/controls",
            "_view_module_version": "1.5.0",
            "_view_name": "HTMLView",
            "description": "",
            "description_tooltip": null,
            "layout": "IPY_MODEL_b1cd2bfb7290402e997f594639e4262e",
            "placeholder": "​",
            "style": "IPY_MODEL_7830602b7f9d4190b14a63beccf285a9",
            "value": "100%"
          }
        },
        "f94a9db928a442a099df91288c2af352": {
          "model_module": "@jupyter-widgets/controls",
          "model_name": "FloatProgressModel",
          "model_module_version": "1.5.0",
          "state": {
            "_dom_classes": [],
            "_model_module": "@jupyter-widgets/controls",
            "_model_module_version": "1.5.0",
            "_model_name": "FloatProgressModel",
            "_view_count": null,
            "_view_module": "@jupyter-widgets/controls",
            "_view_module_version": "1.5.0",
            "_view_name": "ProgressView",
            "bar_style": "success",
            "description": "",
            "description_tooltip": null,
            "layout": "IPY_MODEL_cf83ee09c7714d88a98bf7fdfbe671ba",
            "max": 224,
            "min": 0,
            "orientation": "horizontal",
            "style": "IPY_MODEL_6b4f57860ba34821ae1bc318fdc7a702",
            "value": 224
          }
        },
        "301c5fb412a04795bab13e453781f040": {
          "model_module": "@jupyter-widgets/controls",
          "model_name": "HTMLModel",
          "model_module_version": "1.5.0",
          "state": {
            "_dom_classes": [],
            "_model_module": "@jupyter-widgets/controls",
            "_model_module_version": "1.5.0",
            "_model_name": "HTMLModel",
            "_view_count": null,
            "_view_module": "@jupyter-widgets/controls",
            "_view_module_version": "1.5.0",
            "_view_name": "HTMLView",
            "description": "",
            "description_tooltip": null,
            "layout": "IPY_MODEL_9ffb8e5cb9f54ea6b6bfb905258010f9",
            "placeholder": "​",
            "style": "IPY_MODEL_9125b728e8494905b6f96a2390a7530d",
            "value": " 224/224 [00:00&lt;00:00, 381.88it/s]"
          }
        },
        "ddfe98aa7bd742f7a25ef872296283b7": {
          "model_module": "@jupyter-widgets/base",
          "model_name": "LayoutModel",
          "model_module_version": "1.2.0",
          "state": {
            "_model_module": "@jupyter-widgets/base",
            "_model_module_version": "1.2.0",
            "_model_name": "LayoutModel",
            "_view_count": null,
            "_view_module": "@jupyter-widgets/base",
            "_view_module_version": "1.2.0",
            "_view_name": "LayoutView",
            "align_content": null,
            "align_items": null,
            "align_self": null,
            "border": null,
            "bottom": null,
            "display": null,
            "flex": null,
            "flex_flow": null,
            "grid_area": null,
            "grid_auto_columns": null,
            "grid_auto_flow": null,
            "grid_auto_rows": null,
            "grid_column": null,
            "grid_gap": null,
            "grid_row": null,
            "grid_template_areas": null,
            "grid_template_columns": null,
            "grid_template_rows": null,
            "height": null,
            "justify_content": null,
            "justify_items": null,
            "left": null,
            "margin": null,
            "max_height": null,
            "max_width": null,
            "min_height": null,
            "min_width": null,
            "object_fit": null,
            "object_position": null,
            "order": null,
            "overflow": null,
            "overflow_x": null,
            "overflow_y": null,
            "padding": null,
            "right": null,
            "top": null,
            "visibility": null,
            "width": null
          }
        },
        "b1cd2bfb7290402e997f594639e4262e": {
          "model_module": "@jupyter-widgets/base",
          "model_name": "LayoutModel",
          "model_module_version": "1.2.0",
          "state": {
            "_model_module": "@jupyter-widgets/base",
            "_model_module_version": "1.2.0",
            "_model_name": "LayoutModel",
            "_view_count": null,
            "_view_module": "@jupyter-widgets/base",
            "_view_module_version": "1.2.0",
            "_view_name": "LayoutView",
            "align_content": null,
            "align_items": null,
            "align_self": null,
            "border": null,
            "bottom": null,
            "display": null,
            "flex": null,
            "flex_flow": null,
            "grid_area": null,
            "grid_auto_columns": null,
            "grid_auto_flow": null,
            "grid_auto_rows": null,
            "grid_column": null,
            "grid_gap": null,
            "grid_row": null,
            "grid_template_areas": null,
            "grid_template_columns": null,
            "grid_template_rows": null,
            "height": null,
            "justify_content": null,
            "justify_items": null,
            "left": null,
            "margin": null,
            "max_height": null,
            "max_width": null,
            "min_height": null,
            "min_width": null,
            "object_fit": null,
            "object_position": null,
            "order": null,
            "overflow": null,
            "overflow_x": null,
            "overflow_y": null,
            "padding": null,
            "right": null,
            "top": null,
            "visibility": null,
            "width": null
          }
        },
        "7830602b7f9d4190b14a63beccf285a9": {
          "model_module": "@jupyter-widgets/controls",
          "model_name": "DescriptionStyleModel",
          "model_module_version": "1.5.0",
          "state": {
            "_model_module": "@jupyter-widgets/controls",
            "_model_module_version": "1.5.0",
            "_model_name": "DescriptionStyleModel",
            "_view_count": null,
            "_view_module": "@jupyter-widgets/base",
            "_view_module_version": "1.2.0",
            "_view_name": "StyleView",
            "description_width": ""
          }
        },
        "cf83ee09c7714d88a98bf7fdfbe671ba": {
          "model_module": "@jupyter-widgets/base",
          "model_name": "LayoutModel",
          "model_module_version": "1.2.0",
          "state": {
            "_model_module": "@jupyter-widgets/base",
            "_model_module_version": "1.2.0",
            "_model_name": "LayoutModel",
            "_view_count": null,
            "_view_module": "@jupyter-widgets/base",
            "_view_module_version": "1.2.0",
            "_view_name": "LayoutView",
            "align_content": null,
            "align_items": null,
            "align_self": null,
            "border": null,
            "bottom": null,
            "display": null,
            "flex": null,
            "flex_flow": null,
            "grid_area": null,
            "grid_auto_columns": null,
            "grid_auto_flow": null,
            "grid_auto_rows": null,
            "grid_column": null,
            "grid_gap": null,
            "grid_row": null,
            "grid_template_areas": null,
            "grid_template_columns": null,
            "grid_template_rows": null,
            "height": null,
            "justify_content": null,
            "justify_items": null,
            "left": null,
            "margin": null,
            "max_height": null,
            "max_width": null,
            "min_height": null,
            "min_width": null,
            "object_fit": null,
            "object_position": null,
            "order": null,
            "overflow": null,
            "overflow_x": null,
            "overflow_y": null,
            "padding": null,
            "right": null,
            "top": null,
            "visibility": null,
            "width": null
          }
        },
        "6b4f57860ba34821ae1bc318fdc7a702": {
          "model_module": "@jupyter-widgets/controls",
          "model_name": "ProgressStyleModel",
          "model_module_version": "1.5.0",
          "state": {
            "_model_module": "@jupyter-widgets/controls",
            "_model_module_version": "1.5.0",
            "_model_name": "ProgressStyleModel",
            "_view_count": null,
            "_view_module": "@jupyter-widgets/base",
            "_view_module_version": "1.2.0",
            "_view_name": "StyleView",
            "bar_color": null,
            "description_width": ""
          }
        },
        "9ffb8e5cb9f54ea6b6bfb905258010f9": {
          "model_module": "@jupyter-widgets/base",
          "model_name": "LayoutModel",
          "model_module_version": "1.2.0",
          "state": {
            "_model_module": "@jupyter-widgets/base",
            "_model_module_version": "1.2.0",
            "_model_name": "LayoutModel",
            "_view_count": null,
            "_view_module": "@jupyter-widgets/base",
            "_view_module_version": "1.2.0",
            "_view_name": "LayoutView",
            "align_content": null,
            "align_items": null,
            "align_self": null,
            "border": null,
            "bottom": null,
            "display": null,
            "flex": null,
            "flex_flow": null,
            "grid_area": null,
            "grid_auto_columns": null,
            "grid_auto_flow": null,
            "grid_auto_rows": null,
            "grid_column": null,
            "grid_gap": null,
            "grid_row": null,
            "grid_template_areas": null,
            "grid_template_columns": null,
            "grid_template_rows": null,
            "height": null,
            "justify_content": null,
            "justify_items": null,
            "left": null,
            "margin": null,
            "max_height": null,
            "max_width": null,
            "min_height": null,
            "min_width": null,
            "object_fit": null,
            "object_position": null,
            "order": null,
            "overflow": null,
            "overflow_x": null,
            "overflow_y": null,
            "padding": null,
            "right": null,
            "top": null,
            "visibility": null,
            "width": null
          }
        },
        "9125b728e8494905b6f96a2390a7530d": {
          "model_module": "@jupyter-widgets/controls",
          "model_name": "DescriptionStyleModel",
          "model_module_version": "1.5.0",
          "state": {
            "_model_module": "@jupyter-widgets/controls",
            "_model_module_version": "1.5.0",
            "_model_name": "DescriptionStyleModel",
            "_view_count": null,
            "_view_module": "@jupyter-widgets/base",
            "_view_module_version": "1.2.0",
            "_view_name": "StyleView",
            "description_width": ""
          }
        }
      }
    }
  },
  "cells": [
    {
      "cell_type": "code",
      "source": [
        "import os\n",
        "import numpy as np\n",
        "import pandas as pd\n",
        "import tensorflow as tf\n",
        "from tensorflow.keras import layers, models, optimizers\n",
        "from tensorflow.keras.callbacks import EarlyStopping, ModelCheckpoint\n",
        "from functools import partial\n",
        "from tensorflow.keras.optimizers import Adam  # Import Adam optimizer\n",
        "import math\n",
        "from sklearn.model_selection import train_test_split\n",
        "from tqdm.notebook import tqdm"
      ],
      "metadata": {
        "id": "-iFePHEMTmbO"
      },
      "execution_count": null,
      "outputs": []
    },
    {
      "cell_type": "code",
      "source": [
        "# Constants\n",
        "IMG_DIM = (128, 128, 6)\n",
        "NUM_CLASSES = 2  # Flood / No flood\n",
        "BATCH_SIZE = 16\n",
        "EPOCHS = 50\n",
        "\n",
        "# Load Data\n",
        "train_data = pd.read_csv(\"/content/Train.csv\")\n",
        "test_data = pd.read_csv(\"/content/Test.csv\")\n",
        "\n",
        "train_data['event_id'] = train_data['event_id'].apply(lambda x: '_'.join(x.split('_')[0:2]))\n",
        "train_data['event_idx'] = train_data.groupby('event_id', sort=False).ngroup()\n",
        "test_data['event_id'] = test_data['event_id'].apply(lambda x: '_'.join(x.split('_')[0:2]))\n",
        "test_data['event_idx'] = test_data.groupby('event_id', sort=False).ngroup()\n",
        "\n",
        "train_data['event_t'] = train_data.groupby('event_id').cumcount()\n",
        "test_data['event_t'] = test_data.groupby('event_id').cumcount()\n",
        "\n",
        "\n",
        "print(train_data.head())\n",
        "print(test_data.head())"
      ],
      "metadata": {
        "colab": {
          "base_uri": "https://localhost:8080/"
        },
        "id": "70cZ3OcrTsf6",
        "outputId": "4d6b4758-3494-4a1b-bf73-90fa9e06e9fd"
      },
      "execution_count": null,
      "outputs": [
        {
          "output_type": "stream",
          "name": "stdout",
          "text": [
            "          event_id  precipitation  label  event_idx  event_t\n",
            "0  id_spictby0jfsb       0.000000      0          0        0\n",
            "1  id_spictby0jfsb       0.095438      0          0        1\n",
            "2  id_spictby0jfsb       1.949560      0          0        2\n",
            "3  id_spictby0jfsb       3.232160      0          0        3\n",
            "4  id_spictby0jfsb       0.000000      0          0        4\n",
            "          event_id  precipitation  event_idx  event_t\n",
            "0  id_j7b6sokflo4k        0.00000          0        0\n",
            "1  id_j7b6sokflo4k        3.01864          0        1\n",
            "2  id_j7b6sokflo4k        0.00000          0        2\n",
            "3  id_j7b6sokflo4k       16.61520          0        3\n",
            "4  id_j7b6sokflo4k        2.56706          0        4\n"
          ]
        }
      ]
    },
    {
      "cell_type": "code",
      "source": [
        "len(train_data[train_data.event_id == 'id_p8f40663jj3g'])"
      ],
      "metadata": {
        "colab": {
          "base_uri": "https://localhost:8080/"
        },
        "id": "YOzIVUdzWUzr",
        "outputId": "a375609f-2ff8-49dd-fdaa-5e30b4429ea6"
      },
      "execution_count": null,
      "outputs": [
        {
          "output_type": "execute_result",
          "data": {
            "text/plain": [
              "730"
            ]
          },
          "metadata": {},
          "execution_count": 3
        }
      ]
    },
    {
      "cell_type": "code",
      "source": [
        "images_path = '/content/composite_images.npz'\n",
        "images = np.load(images_path)\n",
        "_MAX_INT = np.iinfo(np.uint16).max\n",
        "\n",
        "def decode_slope(x: np.ndarray) -> np.ndarray:\n",
        "    return (x / _MAX_INT * (math.pi / 2.0)).astype(np.float32)\n",
        "\n",
        "def normalize(x: np.ndarray, mean: int, std: int) -> np.ndarray:\n",
        "    return (x - mean) / std\n",
        "\n",
        "rough_S2_normalize = partial(normalize, mean=1250, std=500)\n",
        "\n",
        "def preprocess_image(x: np.ndarray) -> np.ndarray:\n",
        "    return np.concatenate([\n",
        "        rough_S2_normalize(x[..., :-1].astype(np.float32)),\n",
        "        decode_slope(x[..., -1:]),\n",
        "    ], axis=-1, dtype=np.float32)\n",
        "print(images)\n",
        "print('The folder contains', len(images), 'images, both for train and test.')\n",
        "print('There are', len(train_data['event_id'].unique()), 'train event ids and', len(test_data['event_id'].unique()), 'test event ids.')"
      ],
      "metadata": {
        "colab": {
          "base_uri": "https://localhost:8080/"
        },
        "id": "b2lgRzNCZEuq",
        "outputId": "f115079d-3d1d-4842-bb59-6f2e55b76ed2"
      },
      "execution_count": null,
      "outputs": [
        {
          "output_type": "stream",
          "name": "stdout",
          "text": [
            "NpzFile '/content/composite_images.npz' with keys: id_rhg5w8vmv3ny, id_rua8ey2jczl0, id_073l04ir88sn, id_wmkfqw7iwjmu, id_heri806er7xw...\n",
            "The folder contains 898 images, both for train and test.\n",
            "There are 674 train event ids and 224 test event ids.\n"
          ]
        }
      ]
    },
    {
      "cell_type": "code",
      "source": [
        "# Image metadata constants\n",
        "\n",
        "# 5 bands and the slope of each image\n",
        "BAND_NAMES =  ('B2', 'B3', 'B4', 'B8', 'B11', 'slope')\n",
        "# Image shape\n",
        "H, W, NUM_CHANNELS = IMG_DIM = (128, 128, len(BAND_NAMES))"
      ],
      "metadata": {
        "id": "wcEv-vGeZlcp"
      },
      "execution_count": null,
      "outputs": []
    },
    {
      "cell_type": "code",
      "source": [
        "\n",
        "from matplotlib import pyplot as plt\n",
        "import matplotlib.patheffects as pe\n",
        "import matplotlib.patches as patches\n",
        "event_id = 'id_rhg5w8vmv3ny'\n",
        "\n",
        "num_cols = len(BAND_NAMES)\n",
        "_, axes = plt.subplots(\n",
        "    ncols=num_cols,\n",
        "    figsize=(num_cols * 3.5, 3.5),\n",
        "    facecolor='white',\n",
        ")\n",
        "\n",
        "for band_idx in range(num_cols):\n",
        "  img = images[event_id][..., band_idx]\n",
        "  axes[band_idx].imshow(img, cmap='gray', interpolation='nearest')\n",
        "  axes[band_idx].set_title(f'band {BAND_NAMES[band_idx]}')\n",
        "  axes[band_idx].get_xaxis().set_visible(False)\n",
        "  axes[band_idx].get_yaxis().set_visible(False)"
      ],
      "metadata": {
        "colab": {
          "base_uri": "https://localhost:8080/",
          "height": 128
        },
        "id": "uj7_L3tNZtCR",
        "outputId": "b5fdce67-f6fa-4706-fffa-1d44e3db259c"
      },
      "execution_count": null,
      "outputs": [
        {
          "output_type": "display_data",
          "data": {
            "text/plain": [
              "<Figure size 2100x350 with 6 Axes>"
            ],
            "image/png": "[encoded data removed]"
          },
          "metadata": {}
        }
      ]
    },
    {
      "cell_type": "code",
      "source": [
        "# Split Data\n",
        "rng = np.random.default_rng(seed=0xf100d)\n",
        "event_ids = train_data['event_id'].unique()\n",
        "new_split = pd.Series(\n",
        "    data=np.random.choice(['train', 'valid'], size=len(event_ids), p=[0.9, 0.1]),\n",
        "    index=event_ids,\n",
        "    name='split',\n",
        ")\n",
        "data_new = train_data.join(new_split, on='event_id')\n",
        "\n",
        "train_df = data_new[data_new['split'] == 'train']\n",
        "train_timeseries = train_df.pivot(index='event_id', columns='event_t', values='precipitation').to_numpy()\n",
        "train_labels = train_df.pivot(index='event_id', columns='event_t', values='label').to_numpy()\n",
        "\n",
        "valid_df = data_new[data_new['split'] == 'valid']\n",
        "valid_timeseries = valid_df.pivot(index='event_id', columns='event_t', values='precipitation').to_numpy()\n",
        "valid_labels = valid_df.pivot(index='event_id', columns='event_t', values='label').to_numpy()\n",
        "\n",
        "test_timeseries = test_data.pivot(index='event_id', columns='event_t', values='precipitation').to_numpy()\n",
        "\n",
        "event_splits = data_new.groupby('event_id')['split'].first()"
      ],
      "metadata": {
        "id": "r95S9QRtaTC5"
      },
      "execution_count": null,
      "outputs": []
    },
    {
      "cell_type": "code",
      "source": [
        "# Process Images\n",
        "train_images, valid_images, test_images = [], [], []\n",
        "\n",
        "for event_id in tqdm(data_new['event_id'].unique()):\n",
        "    img = preprocess_image(images[event_id])\n",
        "    if data_new.loc[data_new['event_id'] == event_id, 'split'].iloc[0] == 'train':\n",
        "        train_images.append(img)\n",
        "    else:\n",
        "        valid_images.append(img)\n",
        "\n",
        "for event_id in tqdm(test_data['event_id'].unique()):\n",
        "    img = preprocess_image(images[event_id])\n",
        "    test_images.append(img)\n",
        "\n",
        "train_images = np.stack(train_images, axis=0)\n",
        "valid_images = np.stack(valid_images, axis=0)\n",
        "test_images = np.stack(test_images, axis=0)"
      ],
      "metadata": {
        "colab": {
          "base_uri": "https://localhost:8080/",
          "height": 81,
          "referenced_widgets": [
            "722670495c704f038d81582f8117e82b",
            "d223560fc5704697ac2442e849b0414b",
            "fc001ccc47a5434bbc883b0315b94a74",
            "64ec68b4f28143fd9354645d74ce32b9",
            "8d1468477f9b4cc08fba5741bbb37d2a",
            "a22f4597b05d4c37bc972dfa7e413145",
            "f80ef7c394194539b84a13525bd3f88b",
            "5431979266d5473dacabd92ed85583bf",
            "e7e2600673ab4d50ace4e3ff4ddab06e",
            "9ffa623d34714701baa86ee853894c0f",
            "d5c2b67c15254d56b5a71392a47147ba",
            "024c3398b4264d6e9f045d3118d4d869",
            "defe0caad9024622a28e750c9dac22d1",
            "f94a9db928a442a099df91288c2af352",
            "301c5fb412a04795bab13e453781f040",
            "ddfe98aa7bd742f7a25ef872296283b7",
            "b1cd2bfb7290402e997f594639e4262e",
            "7830602b7f9d4190b14a63beccf285a9",
            "cf83ee09c7714d88a98bf7fdfbe671ba",
            "6b4f57860ba34821ae1bc318fdc7a702",
            "9ffb8e5cb9f54ea6b6bfb905258010f9",
            "9125b728e8494905b6f96a2390a7530d"
          ]
        },
        "id": "G6BwmAXKcjOq",
        "outputId": "3fa7389e-e319-45e4-8c0d-78305ef3c919"
      },
      "execution_count": null,
      "outputs": [
        {
          "output_type": "display_data",
          "data": {
            "text/plain": [
              "  0%|          | 0/674 [00:00<?, ?it/s]"
            ],
            "application/vnd.jupyter.widget-view+json": {
              "version_major": 2,
              "version_minor": 0,
              "model_id": "722670495c704f038d81582f8117e82b"
            }
          },
          "metadata": {}
        },
        {
          "output_type": "display_data",
          "data": {
            "text/plain": [
              "  0%|          | 0/224 [00:00<?, ?it/s]"
            ],
            "application/vnd.jupyter.widget-view+json": {
              "version_major": 2,
              "version_minor": 0,
              "model_id": "024c3398b4264d6e9f045d3118d4d869"
            }
          },
          "metadata": {}
        }
      ]
    },
    {
      "cell_type": "code",
      "source": [
        "print(f'{train_timeseries.shape=}')\n",
        "print(f'    {train_images.shape=}')\n",
        "print(f'    {train_labels.shape=}')"
      ],
      "metadata": {
        "colab": {
          "base_uri": "https://localhost:8080/"
        },
        "id": "Cg2OrFwYcyf5",
        "outputId": "a5690cf4-9b8a-4409-a8fa-b8ddd6f46fd8"
      },
      "execution_count": null,
      "outputs": [
        {
          "output_type": "stream",
          "name": "stdout",
          "text": [
            "train_timeseries.shape=(606, 730)\n",
            "    train_images.shape=(606, 128, 128, 6)\n",
            "    train_labels.shape=(606, 730)\n"
          ]
        }
      ]
    },
    {
      "cell_type": "code",
      "source": [
        "print(f'{valid_timeseries.shape=}')\n",
        "print(f'    {valid_images.shape=}')\n",
        "print(f'    {valid_labels.shape=}')"
      ],
      "metadata": {
        "colab": {
          "base_uri": "https://localhost:8080/"
        },
        "id": "Cc2IQckFc48Z",
        "outputId": "1fccb868-e373-4e92-eae8-f209438dd53a"
      },
      "execution_count": null,
      "outputs": [
        {
          "output_type": "stream",
          "name": "stdout",
          "text": [
            "valid_timeseries.shape=(68, 730)\n",
            "    valid_images.shape=(68, 128, 128, 6)\n",
            "    valid_labels.shape=(68, 730)\n"
          ]
        }
      ]
    },
    {
      "cell_type": "code",
      "source": [
        "print(f'{test_timeseries.shape=}')\n",
        "print(f'    {test_images.shape=}')\n"
      ],
      "metadata": {
        "colab": {
          "base_uri": "https://localhost:8080/"
        },
        "id": "vnZF39wtc9va",
        "outputId": "e876c6d5-8cc7-415a-cb09-a8bc1206981a"
      },
      "execution_count": null,
      "outputs": [
        {
          "output_type": "stream",
          "name": "stdout",
          "text": [
            "test_timeseries.shape=(224, 730)\n",
            "    test_images.shape=(224, 128, 128, 6)\n"
          ]
        }
      ]
    },
    {
      "cell_type": "code",
      "source": [
        "# Dataset Preparation\n",
        "def get_datasets():\n",
        "    return {\n",
        "        'train': {\n",
        "            'timeseries': train_timeseries,\n",
        "            'image': train_images,\n",
        "            'label': train_labels,\n",
        "        },\n",
        "        'valid': {\n",
        "            'timeseries': valid_timeseries,\n",
        "            'image': valid_images,\n",
        "            'label': valid_labels,\n",
        "        },\n",
        "        'test': {\n",
        "            'timeseries': test_timeseries,\n",
        "            'image': test_images,\n",
        "        },\n",
        "    }"
      ],
      "metadata": {
        "id": "roo7FdCcd8_6"
      },
      "execution_count": null,
      "outputs": []
    },
    {
      "cell_type": "code",
      "source": [
        "def build_model():\n",
        "    image_input = tf.keras.Input(shape=(128, 128, 6), name=\"image\")\n",
        "    timeseries_input = tf.keras.Input(shape=(730,), name=\"timeseries\")\n",
        "\n",
        "    # Image branch\n",
        "    x = layers.Conv2D(32, (3, 3), activation='relu')(image_input)\n",
        "    x = layers.MaxPooling2D((2, 2))(x)\n",
        "    x = layers.Conv2D(64, (3, 3), activation='relu')(x)\n",
        "    x = layers.MaxPooling2D((2, 2))(x)\n",
        "    x = layers.Flatten()(x)\n",
        "    image_features = layers.Dense(128, activation='relu')(x)\n",
        "\n",
        "    # Time-series branch\n",
        "    y = layers.Dense(128, activation='relu')(timeseries_input)\n",
        "    y = layers.Dense(128, activation='relu')(y)\n",
        "\n",
        "    # Combined branch\n",
        "    combined = layers.concatenate([image_features, y])\n",
        "    z = layers.Dense(256, activation='relu')(combined)\n",
        "    z = layers.Dense(730, activation='sigmoid')(z)  # Sigmoid for binary classification\n",
        "\n",
        "    model = models.Model(inputs=[timeseries_input, image_input], outputs=z)\n",
        "\n",
        "    model.compile(\n",
        "        optimizer=Adam(learning_rate=0.001),\n",
        "        loss='binary_crossentropy',\n",
        "        metrics=['accuracy']\n",
        "    )\n",
        "    return model\n"
      ],
      "metadata": {
        "id": "UreiDD-Kl1nz"
      },
      "execution_count": null,
      "outputs": []
    },
    {
      "cell_type": "code",
      "source": [
        "# Load datasets\n",
        "datasets = get_datasets()\n",
        "\n",
        "# Callbacks\n",
        "callbacks = [\n",
        "    EarlyStopping(patience=5, restore_best_weights=True),\n",
        "    ModelCheckpoint('best_model.keras', save_best_only=True)\n",
        "]\n",
        "\n",
        "# Model Training\n",
        "# Model Training\n",
        "model = build_model()\n",
        "model.fit(\n",
        "    [datasets['train']['timeseries'], datasets['train']['image']],\n",
        "    datasets['train']['label'],  # Ensure labels are binary (0 or 1)\n",
        "    validation_data=(\n",
        "        [datasets['valid']['timeseries'], datasets['valid']['image']],\n",
        "        datasets['valid']['label']\n",
        "    ),\n",
        "    batch_size=16,\n",
        "    epochs=50,\n",
        "    callbacks= callbacks\n",
        ")\n",
        "\n",
        "\n",
        "# Prediction\n",
        "#predictions = model.predict([datasets['test']['timeseries'], datasets['test']['image']])\n",
        "#np.save('test_predictions.npy', predictions)\n"
      ],
      "metadata": {
        "colab": {
          "base_uri": "https://localhost:8080/"
        },
        "id": "6T2sJ33FmGBR",
        "outputId": "3d84559f-6764-4ad5-9430-eb3c6aa32ef8"
      },
      "execution_count": null,
      "outputs": [
        {
          "output_type": "stream",
          "name": "stdout",
          "text": [
            "Epoch 1/50\n",
            "\u001b[1m38/38\u001b[0m \u001b[32m━━━━━━━━━━━━━━━━━━━━\u001b[0m\u001b[37m\u001b[0m \u001b[1m14s\u001b[0m 163ms/step - accuracy: 0.0000e+00 - loss: 0.2857 - val_accuracy: 0.0294 - val_loss: 0.0086\n",
            "Epoch 2/50\n",
            "\u001b[1m38/38\u001b[0m \u001b[32m━━━━━━━━━━━━━━━━━━━━\u001b[0m\u001b[37m\u001b[0m \u001b[1m9s\u001b[0m 25ms/step - accuracy: 0.0165 - loss: 0.0061 - val_accuracy: 0.0000e+00 - val_loss: 0.0055\n",
            "Epoch 3/50\n",
            "\u001b[1m38/38\u001b[0m \u001b[32m━━━━━━━━━━━━━━━━━━━━\u001b[0m\u001b[37m\u001b[0m \u001b[1m1s\u001b[0m 23ms/step - accuracy: 0.0319 - loss: 0.0046 - val_accuracy: 0.0294 - val_loss: 0.0053\n",
            "Epoch 4/50\n",
            "\u001b[1m38/38\u001b[0m \u001b[32m━━━━━━━━━━━━━━━━━━━━\u001b[0m\u001b[37m\u001b[0m \u001b[1m0s\u001b[0m 12ms/step - accuracy: 0.0732 - loss: 0.0038 - val_accuracy: 0.0294 - val_loss: 0.0054\n",
            "Epoch 5/50\n",
            "\u001b[1m38/38\u001b[0m \u001b[32m━━━━━━━━━━━━━━━━━━━━\u001b[0m\u001b[37m\u001b[0m \u001b[1m1s\u001b[0m 22ms/step - accuracy: 0.1550 - loss: 0.0033 - val_accuracy: 0.0294 - val_loss: 0.0052\n",
            "Epoch 6/50\n",
            "\u001b[1m38/38\u001b[0m \u001b[32m━━━━━━━━━━━━━━━━━━━━\u001b[0m\u001b[37m\u001b[0m \u001b[1m0s\u001b[0m 11ms/step - accuracy: 0.2417 - loss: 0.0026 - val_accuracy: 0.0294 - val_loss: 0.0053\n",
            "Epoch 7/50\n",
            "\u001b[1m38/38\u001b[0m \u001b[32m━━━━━━━━━━━━━━━━━━━━\u001b[0m\u001b[37m\u001b[0m \u001b[1m0s\u001b[0m 11ms/step - accuracy: 0.3341 - loss: 0.0019 - val_accuracy: 0.0147 - val_loss: 0.0052\n",
            "Epoch 8/50\n",
            "\u001b[1m38/38\u001b[0m \u001b[32m━━━━━━━━━━━━━━━━━━━━\u001b[0m\u001b[37m\u001b[0m \u001b[1m0s\u001b[0m 12ms/step - accuracy: 0.4123 - loss: 0.0014 - val_accuracy: 0.0441 - val_loss: 0.0059\n",
            "Epoch 9/50\n",
            "\u001b[1m38/38\u001b[0m \u001b[32m━━━━━━━━━━━━━━━━━━━━\u001b[0m\u001b[37m\u001b[0m \u001b[1m0s\u001b[0m 12ms/step - accuracy: 0.4029 - loss: 8.7025e-04 - val_accuracy: 0.0294 - val_loss: 0.0059\n",
            "Epoch 10/50\n",
            "\u001b[1m38/38\u001b[0m \u001b[32m━━━━━━━━━━━━━━━━━━━━\u001b[0m\u001b[37m\u001b[0m \u001b[1m1s\u001b[0m 12ms/step - accuracy: 0.4552 - loss: 5.3323e-04 - val_accuracy: 0.0294 - val_loss: 0.0061\n"
          ]
        },
        {
          "output_type": "execute_result",
          "data": {
            "text/plain": [
              "<keras.src.callbacks.history.History at 0x7ce70a2a5e40>"
            ]
          },
          "metadata": {},
          "execution_count": 14
        }
      ]
    },
    {
      "cell_type": "code",
      "source": [
        "# Predict on test set\n",
        "predictions = model.predict([datasets['test']['timeseries'], datasets['test']['image']])\n",
        "preds_df = pd.DataFrame(predictions.squeeze(), index=test_data['event_id'].unique())\n",
        "preds_df.to_csv('predictions.csv', index=True, header=False)\n",
        "\n",
        "print(\"Prediction file saved: predictions.csv\")"
      ],
      "metadata": {
        "colab": {
          "base_uri": "https://localhost:8080/"
        },
        "id": "MoyCKKzhopn6",
        "outputId": "4ba4f3ec-1d0c-44c5-a838-dc59e34d9abc"
      },
      "execution_count": null,
      "outputs": [
        {
          "output_type": "stream",
          "name": "stdout",
          "text": [
            "\u001b[1m7/7\u001b[0m \u001b[32m━━━━━━━━━━━━━━━━━━━━\u001b[0m\u001b[37m\u001b[0m \u001b[1m1s\u001b[0m 14ms/step\n",
            "Prediction file saved: predictions.csv\n"
          ]
        }
      ]
    },
    {
      "cell_type": "code",
      "source": [
        "# Predict on test set\n",
        "probs = model.predict([datasets['test']['timeseries'], datasets['test']['image']])\n",
        "print (probs.shape)\n",
        "\n",
        "# Flatten predictions to match the expected submission format\n",
        "probs_flattened = probs.flatten()\n",
        "\n",
        "# Create submisiion file to be uploaded to Zindi for scoring\n",
        "subs = pd.DataFrame({'event_id': test_data.event_id, 'label': probs_flattened})\n",
        "subs.to_csv('mysubmission5.csv', index = False)\n",
        "\n",
        "subs.head()\n",
        "subs.isnull().sum()"
      ],
      "metadata": {
        "colab": {
          "base_uri": "https://localhost:8080/",
          "height": 181
        },
        "id": "jr2NwCDqpk1q",
        "outputId": "247e31df-6e74-49e3-fdc2-3973d005c044"
      },
      "execution_count": null,
      "outputs": [
        {
          "output_type": "stream",
          "name": "stdout",
          "text": [
            "\u001b[1m7/7\u001b[0m \u001b[32m━━━━━━━━━━━━━━━━━━━━\u001b[0m\u001b[37m\u001b[0m \u001b[1m0s\u001b[0m 7ms/step \n",
            "(224, 730)\n"
          ]
        },
        {
          "output_type": "execute_result",
          "data": {
            "text/plain": [
              "event_id    0\n",
              "label       0\n",
              "dtype: int64"
            ],
            "text/html": [
              "<div>\n",
              "<style scoped>\n",
              "    .dataframe tbody tr th:only-of-type {\n",
              "        vertical-align: middle;\n",
              "    }\n",
              "\n",
              "    .dataframe tbody tr th {\n",
              "        vertical-align: top;\n",
              "    }\n",
              "\n",
              "    .dataframe thead th {\n",
              "        text-align: right;\n",
              "    }\n",
              "</style>\n",
              "<table border=\"1\" class=\"dataframe\">\n",
              "  <thead>\n",
              "    <tr style=\"text-align: right;\">\n",
              "      <th></th>\n",
              "      <th>0</th>\n",
              "    </tr>\n",
              "  </thead>\n",
              "  <tbody>\n",
              "    <tr>\n",
              "      <th>event_id</th>\n",
              "      <td>0</td>\n",
              "    </tr>\n",
              "    <tr>\n",
              "      <th>label</th>\n",
              "      <td>0</td>\n",
              "    </tr>\n",
              "  </tbody>\n",
              "</table>\n",
              "</div><br><label><b>dtype:</b> int64</label>"
            ]
          },
          "metadata": {},
          "execution_count": 23
        }
      ]
    },
    {
      "cell_type": "code",
      "source": [
        "# Predict on test set\n",
        "probs = model.predict([datasets['test']['timeseries'], datasets['test']['image']])\n",
        "print (probs.shape)\n",
        "\n",
        "# Flatten predictions to match the expected submission format\n",
        "probs_flattened = probs.flatten()\n",
        "\n",
        "# Load the sample submission file\n",
        "BASE_PATH = '/content'\n",
        "# Check if the file exists before trying to read it\n",
        "if os.path.exists(BASE_PATH + '/SampleSubmission.csv'):\n",
        "    sample_submission = pd.read_csv(BASE_PATH + '/SampleSubmission.csv')\n",
        "else:\n",
        "    # If the file doesn't exist, raise an error or handle it appropriately\n",
        "    raise FileNotFoundError(f\"The file 'SampleSubmission.csv' was not found in '{BASE_PATH}'. Please ensure the file exists and is in the correct location.\")\n",
        "\n",
        "# Assign the predicted probabilities to the 'label' column\n",
        "sample_submission['label'] = probs_flattened\n",
        "\n",
        "# Save the submission file\n",
        "submission_path = os.path.join(BASE_PATH, 'submission11.csv')\n",
        "sample_submission.to_csv(submission_path, index=False)\n",
        "\n",
        "# Display the first few rows of the submission file\n",
        "print(sample_submission.head(), )\n",
        "print(f\"Submission file saved to: {submission_path}\")\n"
      ],
      "metadata": {
        "colab": {
          "base_uri": "https://localhost:8080/"
        },
        "id": "hD781uzqp7a_",
        "outputId": "03cc6afa-c4c1-4125-d51a-a40d4406af03"
      },
      "execution_count": null,
      "outputs": [
        {
          "output_type": "stream",
          "name": "stdout",
          "text": [
            "\u001b[1m7/7\u001b[0m \u001b[32m━━━━━━━━━━━━━━━━━━━━\u001b[0m\u001b[37m\u001b[0m \u001b[1m0s\u001b[0m 9ms/step\n",
            "(224, 730)\n",
            "              event_id     label\n",
            "0  id_j7b6sokflo4k_X_0  0.000282\n",
            "1  id_j7b6sokflo4k_X_1  0.000020\n",
            "2  id_j7b6sokflo4k_X_2  0.000215\n",
            "3  id_j7b6sokflo4k_X_3  0.000109\n",
            "4  id_j7b6sokflo4k_X_4  0.000017\n",
            "Submission file saved to: /content/submission11.csv\n"
          ]
        }
      ]
    }
  ]
}